{
 "cells": [
  {
   "cell_type": "code",
   "execution_count": 11,
   "metadata": {},
   "outputs": [],
   "source": [
    "import pandas as pd\n",
    "import numpy as np\n"
   ]
  },
  {
   "cell_type": "code",
   "execution_count": 12,
   "metadata": {},
   "outputs": [],
   "source": [
    "itiel = pd.read_csv('Itiel636770941638547912Sync.csv')\n",
    "mor = pd.read_csv('Mor636771065531910215Sync.csv')\n",
    "oded = pd.read_csv('Oded636754671560850581Sync.csv')"
   ]
  },
  {
   "cell_type": "code",
   "execution_count": 13,
   "metadata": {},
   "outputs": [],
   "source": [
    "def combainLeftRight(DS):\n",
    "    r = DS[DS[' Hand Type']=='right']\n",
    "    r.drop('Time', inplace=True,axis=1)\n",
    "    l = DS[DS[' Hand Type']=='left']\n",
    "    r.set_index(' Frame ID',inplace=True)\n",
    "    l.set_index(' Frame ID',inplace=True)\n",
    "    f = pd.DataFrame(pd.merge(l,r, how='left',on=' Frame ID'))\n",
    "    f = f.drop([' Hand Type_x',' # hands_y' ,' Hand Type_y' ,' # hands_x'],axis=1)\n",
    "    return f"
   ]
  },
  {
   "cell_type": "code",
   "execution_count": 14,
   "metadata": {},
   "outputs": [],
   "source": [
    "itiel1=combainLeftRight(itiel)\n",
    "mor1 = combainLeftRight(mor)\n",
    "oded1 = combainLeftRight(oded)"
   ]
  },
  {
   "cell_type": "code",
   "execution_count": 15,
   "metadata": {},
   "outputs": [],
   "source": [
    "itiel1.to_excel(\"itielSyncTest.xlsx\")\n",
    "mor1.to_excel(\"morSyncTest.xlsx\")\n",
    "oded1.to_excel(\"odedSyncTest.xlsx\")"
   ]
  },
  {
   "cell_type": "code",
   "execution_count": null,
   "metadata": {},
   "outputs": [],
   "source": [
    "\n"
   ]
  },
  {
   "cell_type": "code",
   "execution_count": null,
   "metadata": {},
   "outputs": [],
   "source": []
  },
  {
   "cell_type": "code",
   "execution_count": null,
   "metadata": {},
   "outputs": [],
   "source": []
  }
 ],
 "metadata": {
  "kernelspec": {
   "display_name": "Python 3",
   "language": "python",
   "name": "python3"
  },
  "language_info": {
   "codemirror_mode": {
    "name": "ipython",
    "version": 3
   },
   "file_extension": ".py",
   "mimetype": "text/x-python",
   "name": "python",
   "nbconvert_exporter": "python",
   "pygments_lexer": "ipython3",
   "version": "3.7.1"
  }
 },
 "nbformat": 4,
 "nbformat_minor": 2
}
