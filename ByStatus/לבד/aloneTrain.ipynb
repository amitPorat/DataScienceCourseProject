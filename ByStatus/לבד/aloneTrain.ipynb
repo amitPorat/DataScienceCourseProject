{
 "cells": [
  {
   "cell_type": "code",
   "execution_count": 36,
   "metadata": {},
   "outputs": [],
   "source": [
    "import pandas as pd\n",
    "import numpy as np"
   ]
  },
  {
   "cell_type": "code",
   "execution_count": 37,
   "metadata": {},
   "outputs": [],
   "source": [
    "evyatar = pd.read_csv('Evyatar636771054555711409Alone.csv')\n",
    "nofar = pd.read_csv('Nofar636759796290435160Alone.csv')\n",
    "oriya = pd.read_csv('Oriya636759805268396661Alone.csv')\n",
    "orya = pd.read_csv('OryaB636771082736601528Alone.csv')\n",
    "revital = pd.read_csv('Revital636770955999435879Alone.csv')\n",
    "sachar = pd.read_csv('Sachar636771047408504303Alone.csv')\n",
    "shelly = pd.read_csv('Shelly636759788383205274Alone.csv')\n",
    "yael = pd.read_csv('Yael636771061659067649Alone.csv')\n",
    "yoel = pd.read_csv('Yoel636760922573364655Alone.csv')"
   ]
  },
  {
   "cell_type": "code",
   "execution_count": 38,
   "metadata": {},
   "outputs": [],
   "source": [
    "def funcAlone(DS):\n",
    "    r = DS\n",
    "    r.set_index(' Frame ID',inplace=True)\n",
    "    r = r.drop([' Hand Type',' # hands' ],axis=1)\n",
    "    return r"
   ]
  },
  {
   "cell_type": "code",
   "execution_count": 39,
   "metadata": {},
   "outputs": [],
   "source": [
    "evyatar1=funcAlone(evyatar)\n",
    "nofar1 = funcAlone(nofar)\n",
    "oriya1 = funcAlone(oriya)\n",
    "orya1 = funcAlone(orya)\n",
    "revital1 =funcAlone(revital)\n",
    "sachar1 = funcAlone(sachar)\n",
    "shelly1 = funcAlone(shelly)\n",
    "yael1 = funcAlone(yael)\n",
    "yoel1 = funcAlone(yoel)"
   ]
  },
  {
   "cell_type": "code",
   "execution_count": 40,
   "metadata": {},
   "outputs": [],
   "source": [
    "evyatar1.to_excel(\"evyatarAloneTrain.xlsx\")\n",
    "nofar1.to_excel(\"nofarAloneTrain.xlsx\")\n",
    "oriya1.to_excel(\"oriyaAloneTrain.xlsx\")\n",
    "orya1.to_excel(\"oryaAloneTrain.xlsx\")\n",
    "revital1.to_excel(\"revitalAloneTrain.xlsx\")\n",
    "sachar1.to_excel(\"sacharAloneTrain.xlsx\")\n",
    "shelly1.to_excel(\"shellyAloneTrain.xlsx\")\n",
    "yael1.to_excel(\"yaelAloneTrain.xlsx\")\n",
    "yoel1.to_excel(\"yoelAloneTrain.xlsx\")"
   ]
  },
  {
   "cell_type": "code",
   "execution_count": null,
   "metadata": {},
   "outputs": [],
   "source": [
    "\n"
   ]
  },
  {
   "cell_type": "code",
   "execution_count": null,
   "metadata": {},
   "outputs": [],
   "source": []
  },
  {
   "cell_type": "code",
   "execution_count": null,
   "metadata": {},
   "outputs": [],
   "source": []
  }
 ],
 "metadata": {
  "kernelspec": {
   "display_name": "Python 3",
   "language": "python",
   "name": "python3"
  },
  "language_info": {
   "codemirror_mode": {
    "name": "ipython",
    "version": 3
   },
   "file_extension": ".py",
   "mimetype": "text/x-python",
   "name": "python",
   "nbconvert_exporter": "python",
   "pygments_lexer": "ipython3",
   "version": "3.7.1"
  }
 },
 "nbformat": 4,
 "nbformat_minor": 2
}
