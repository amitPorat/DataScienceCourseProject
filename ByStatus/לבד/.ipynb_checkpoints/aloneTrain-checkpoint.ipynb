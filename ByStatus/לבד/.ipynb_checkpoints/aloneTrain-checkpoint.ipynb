{
 "cells": [
  {
   "cell_type": "code",
   "execution_count": 1,
   "metadata": {},
   "outputs": [],
   "source": [
    "import pandas as pd\n",
    "import numpy as np"
   ]
  },
  {
   "cell_type": "code",
   "execution_count": 2,
   "metadata": {},
   "outputs": [],
   "source": [
    "evyatar = pd.read_csv('Evyatar636771054555711409Alone.csv')\n",
    "nofar = pd.read_csv('Nofar636759796290435160Alone.csv')\n",
    "oriya = pd.read_csv('Oriya636759805268396661Alone.csv')\n",
    "orya = pd.read_csv('OryaB636771082736601528Alone.csv')\n",
    "revital = pd.read_csv('Revital636770955999435879Alone.csv')\n",
    "sachar = pd.read_csv('Sachar636771047408504303Alone.csv')\n",
    "shelly = pd.read_csv('Shelly636759788383205274Alone.csv')\n",
    "yael = pd.read_csv('Yael636771061659067649Alone.csv')\n",
    "yoel = pd.read_csv('Yoel636760922573364655Alone.csv')"
   ]
  },
  {
   "cell_type": "code",
   "execution_count": 3,
   "metadata": {},
   "outputs": [],
   "source": [
    "def combainLeftRight(DS):\n",
    "    r = DS[DS[' Hand Type']=='right']\n",
    "    r.drop('Time', inplace=True,axis=1)\n",
    "    l = DS[DS[' Hand Type']=='left']\n",
    "    r.set_index(' Frame ID',inplace=True)\n",
    "    l.set_index(' Frame ID',inplace=True)\n",
    "    f = pd.DataFrame(pd.merge(l,r, how='left',on=' Frame ID'))\n",
    "    f = f.drop([' Hand Type_x',' # hands_y' ,' Hand Type_y' ,' # hands_x'],axis=1)\n",
    "    return f"
   ]
  },
  {
   "cell_type": "code",
   "execution_count": 4,
   "metadata": {},
   "outputs": [
    {
     "name": "stderr",
     "output_type": "stream",
     "text": [
      "C:\\ProgramData\\Anaconda3\\lib\\site-packages\\pandas\\core\\frame.py:3697: SettingWithCopyWarning: \n",
      "A value is trying to be set on a copy of a slice from a DataFrame\n",
      "\n",
      "See the caveats in the documentation: http://pandas.pydata.org/pandas-docs/stable/indexing.html#indexing-view-versus-copy\n",
      "  errors=errors)\n"
     ]
    }
   ],
   "source": [
    "evyatar1=combainLeftRight(evyatar)\n",
    "nofar1 = combainLeftRight(nofar)\n",
    "oriya1 = combainLeftRight(oriya)\n",
    "orya1 = combainLeftRight(orya)\n",
    "revital1 =combainLeftRight(revital)\n",
    "sachar1 = combainLeftRight(sachar)\n",
    "shelly1 = combainLeftRight(shelly)\n",
    "yael1 = combainLeftRight(yael)\n",
    "yoel1 = combainLeftRight(yoel)"
   ]
  },
  {
   "cell_type": "code",
   "execution_count": 51,
   "metadata": {},
   "outputs": [],
   "source": [
    "evyatar1.to_excel(\"evyatar.xlsx\")\n",
    "nofar1.to_excel(\"nofar.xlsx\")\n",
    "oriya1.to_excel(\"oriya.xlsx\")\n",
    "orya1.to_excel(\"orya.xlsx\")\n",
    "revital1.to_excel(\"revital.xlsx\")\n",
    "sachar1.to_excel(\"sachar.xlsx\")\n",
    "shelly1.to_excel(\"shelly.xlsx\")\n",
    "yael1.to_excel(\"yael.xlsx\")\n",
    "yoel1.to_excel(\"yoel.xlsx\")"
   ]
  },
  {
   "cell_type": "code",
   "execution_count": null,
   "metadata": {},
   "outputs": [],
   "source": [
    "\n"
   ]
  },
  {
   "cell_type": "code",
   "execution_count": null,
   "metadata": {},
   "outputs": [],
   "source": []
  },
  {
   "cell_type": "code",
   "execution_count": null,
   "metadata": {},
   "outputs": [],
   "source": []
  }
 ],
 "metadata": {
  "kernelspec": {
   "display_name": "Python 3",
   "language": "python",
   "name": "python3"
  },
  "language_info": {
   "codemirror_mode": {
    "name": "ipython",
    "version": 3
   },
   "file_extension": ".py",
   "mimetype": "text/x-python",
   "name": "python",
   "nbconvert_exporter": "python",
   "pygments_lexer": "ipython3",
   "version": "3.7.1"
  }
 },
 "nbformat": 4,
 "nbformat_minor": 2
}
