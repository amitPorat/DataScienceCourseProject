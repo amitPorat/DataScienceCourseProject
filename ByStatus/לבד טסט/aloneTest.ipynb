{
 "cells": [
  {
   "cell_type": "code",
   "execution_count": 18,
   "metadata": {},
   "outputs": [],
   "source": [
    "import pandas as pd\n",
    "import numpy as np\n"
   ]
  },
  {
   "cell_type": "code",
   "execution_count": 19,
   "metadata": {},
   "outputs": [],
   "source": [
    "itiel = pd.read_csv('Itiel636770942529041679Alone.csv')\n",
    "mor = pd.read_csv('Mor636771066407626524Alone.csv')\n",
    "oded = pd.read_csv('Oded636754669540564461Alone.csv')"
   ]
  },
  {
   "cell_type": "code",
   "execution_count": 20,
   "metadata": {},
   "outputs": [],
   "source": [
    "def funcAlone(DS):\n",
    "    r = DS\n",
    "    r.set_index(' Frame ID',inplace=True)\n",
    "    r = r.drop([' Hand Type',' # hands' ],axis=1)\n",
    "    return r"
   ]
  },
  {
   "cell_type": "code",
   "execution_count": 21,
   "metadata": {},
   "outputs": [],
   "source": [
    "itiel1=funcAlone(itiel)\n",
    "mor1 = funcAlone(mor)\n",
    "oded1 = funcAlone(oded)"
   ]
  },
  {
   "cell_type": "code",
   "execution_count": 22,
   "metadata": {},
   "outputs": [],
   "source": [
    "itiel1.to_excel(\"itielAloneTest.xlsx\")\n",
    "mor1.to_excel(\"morAloneTest.xlsx\")\n",
    "oded1.to_excel(\"odedAloneTest.xlsx\")"
   ]
  },
  {
   "cell_type": "code",
   "execution_count": null,
   "metadata": {},
   "outputs": [],
   "source": [
    "\n"
   ]
  },
  {
   "cell_type": "code",
   "execution_count": null,
   "metadata": {},
   "outputs": [],
   "source": []
  },
  {
   "cell_type": "code",
   "execution_count": null,
   "metadata": {},
   "outputs": [],
   "source": []
  }
 ],
 "metadata": {
  "kernelspec": {
   "display_name": "Python 3",
   "language": "python",
   "name": "python3"
  },
  "language_info": {
   "codemirror_mode": {
    "name": "ipython",
    "version": 3
   },
   "file_extension": ".py",
   "mimetype": "text/x-python",
   "name": "python",
   "nbconvert_exporter": "python",
   "pygments_lexer": "ipython3",
   "version": "3.7.1"
  }
 },
 "nbformat": 4,
 "nbformat_minor": 2
}
